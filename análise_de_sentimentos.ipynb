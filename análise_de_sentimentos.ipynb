{
  "nbformat": 4,
  "nbformat_minor": 0,
  "metadata": {
    "colab": {
      "name": "análise_de_sentimentos.ipynb",
      "provenance": [],
      "collapsed_sections": [],
      "authorship_tag": "ABX9TyM5OSLH7qtZ/nj0JANS6Ym7",
      "include_colab_link": true
    },
    "kernelspec": {
      "name": "python3",
      "display_name": "Python 3"
    }
  },
  "cells": [
    {
      "cell_type": "markdown",
      "metadata": {
        "id": "view-in-github",
        "colab_type": "text"
      },
      "source": [
        "<a href=\"https://colab.research.google.com/github/pauloribeiros/tidytuesday-py/blob/master/an%C3%A1lise_de_sentimentos.ipynb\" target=\"_parent\"><img src=\"https://colab.research.google.com/assets/colab-badge.svg\" alt=\"Open In Colab\"/></a>"
      ]
    },
    {
      "cell_type": "markdown",
      "metadata": {
        "id": "NTBYITa2ZkJh"
      },
      "source": [
        "# **Análise de Sentimentos usando Machine Learning**\r\n",
        "Dados exportados do Twitter"
      ]
    },
    {
      "cell_type": "markdown",
      "metadata": {
        "id": "7g_5PX6yaWTd"
      },
      "source": [
        "\r\n",
        "* Criando modelos para análise de sentimentos de tweets*\r\n",
        "---\r\n",
        "\r\n"
      ]
    },
    {
      "cell_type": "code",
      "metadata": {
        "id": "ROsn-GPAnOc1"
      },
      "source": [
        "from nltk import word_tokenize\r\n",
        "import nltk\r\n",
        "import re\r\n",
        "import pandas as pd\r\n",
        "from sklearn.feature_extraction.text import CountVectorizer\r\n",
        "from sklearn.naive_bayes import MultinomialNB\r\n",
        "from sklearn import svm\r\n",
        "from sklearn import metrics\r\n",
        "from sklearn.model_selection import cross_val_predict\r\n",
        "%matplotlib inline\r\n",
        "pd.set_option('display.float_format', lambda x: '%.2f' % x)"
      ],
      "execution_count": null,
      "outputs": []
    },
    {
      "cell_type": "markdown",
      "metadata": {
        "id": "1scKNHRSaeBC"
      },
      "source": [
        "**Ler arquivo de dados e conta a quantidade de linhas**"
      ]
    },
    {
      "cell_type": "code",
      "metadata": {
        "colab": {
          "base_uri": "https://localhost:8080/",
          "height": 581
        },
        "id": "JyFWkKBxlG7_",
        "outputId": "c7404898-a438-44f2-969b-286885e6b6ae"
      },
      "source": [
        "df= pd.read_csv('/content/Tweets_Mg.csv', encoding= 'utf-8')\r\n",
        "df.head()"
      ],
      "execution_count": null,
      "outputs": [
        {
          "output_type": "execute_result",
          "data": {
            "text/html": [
              "<div>\n",
              "<style scoped>\n",
              "    .dataframe tbody tr th:only-of-type {\n",
              "        vertical-align: middle;\n",
              "    }\n",
              "\n",
              "    .dataframe tbody tr th {\n",
              "        vertical-align: top;\n",
              "    }\n",
              "\n",
              "    .dataframe thead th {\n",
              "        text-align: right;\n",
              "    }\n",
              "</style>\n",
              "<table border=\"1\" class=\"dataframe\">\n",
              "  <thead>\n",
              "    <tr style=\"text-align: right;\">\n",
              "      <th></th>\n",
              "      <th>Unnamed: 0</th>\n",
              "      <th>Created At</th>\n",
              "      <th>Text</th>\n",
              "      <th>Geo Coordinates.latitude</th>\n",
              "      <th>Geo Coordinates.longitude</th>\n",
              "      <th>User Location</th>\n",
              "      <th>Username</th>\n",
              "      <th>User Screen Name</th>\n",
              "      <th>Retweet Count</th>\n",
              "      <th>Classificacao</th>\n",
              "      <th>Observação</th>\n",
              "      <th>Unnamed: 10</th>\n",
              "      <th>Unnamed: 11</th>\n",
              "      <th>Unnamed: 12</th>\n",
              "      <th>Unnamed: 13</th>\n",
              "      <th>Unnamed: 14</th>\n",
              "      <th>Unnamed: 15</th>\n",
              "      <th>Unnamed: 16</th>\n",
              "      <th>Unnamed: 17</th>\n",
              "      <th>Unnamed: 18</th>\n",
              "      <th>Unnamed: 19</th>\n",
              "      <th>Unnamed: 20</th>\n",
              "      <th>Unnamed: 21</th>\n",
              "      <th>Unnamed: 22</th>\n",
              "      <th>Unnamed: 23</th>\n",
              "      <th>Unnamed: 24</th>\n",
              "    </tr>\n",
              "  </thead>\n",
              "  <tbody>\n",
              "    <tr>\n",
              "      <th>0</th>\n",
              "      <td>0</td>\n",
              "      <td>Sun Jan 08 01:22:05 +0000 2017</td>\n",
              "      <td>���⛪ @ Catedral de Santo Antônio - Governador ...</td>\n",
              "      <td>nan</td>\n",
              "      <td>nan</td>\n",
              "      <td>Brasil</td>\n",
              "      <td>Leonardo C Schneider</td>\n",
              "      <td>LeoCSchneider</td>\n",
              "      <td>0</td>\n",
              "      <td>Neutro</td>\n",
              "      <td>NaN</td>\n",
              "      <td>nan</td>\n",
              "      <td>nan</td>\n",
              "      <td>nan</td>\n",
              "      <td>nan</td>\n",
              "      <td>nan</td>\n",
              "      <td>nan</td>\n",
              "      <td>nan</td>\n",
              "      <td>nan</td>\n",
              "      <td>nan</td>\n",
              "      <td>nan</td>\n",
              "      <td>nan</td>\n",
              "      <td>nan</td>\n",
              "      <td>nan</td>\n",
              "      <td>nan</td>\n",
              "      <td>nan</td>\n",
              "    </tr>\n",
              "    <tr>\n",
              "      <th>1</th>\n",
              "      <td>1</td>\n",
              "      <td>Sun Jan 08 01:49:01 +0000 2017</td>\n",
              "      <td>� @ Governador Valadares, Minas Gerais https:/...</td>\n",
              "      <td>-41.93</td>\n",
              "      <td>-18.85</td>\n",
              "      <td>NaN</td>\n",
              "      <td>Wândell</td>\n",
              "      <td>klefnews</td>\n",
              "      <td>0</td>\n",
              "      <td>Neutro</td>\n",
              "      <td>NaN</td>\n",
              "      <td>nan</td>\n",
              "      <td>nan</td>\n",
              "      <td>nan</td>\n",
              "      <td>nan</td>\n",
              "      <td>nan</td>\n",
              "      <td>nan</td>\n",
              "      <td>nan</td>\n",
              "      <td>nan</td>\n",
              "      <td>nan</td>\n",
              "      <td>nan</td>\n",
              "      <td>nan</td>\n",
              "      <td>nan</td>\n",
              "      <td>nan</td>\n",
              "      <td>nan</td>\n",
              "      <td>nan</td>\n",
              "    </tr>\n",
              "    <tr>\n",
              "      <th>2</th>\n",
              "      <td>2</td>\n",
              "      <td>Sun Jan 08 01:01:46 +0000 2017</td>\n",
              "      <td>�� @ Governador Valadares, Minas Gerais https:...</td>\n",
              "      <td>-41.93</td>\n",
              "      <td>-18.85</td>\n",
              "      <td>NaN</td>\n",
              "      <td>Wândell</td>\n",
              "      <td>klefnews</td>\n",
              "      <td>0</td>\n",
              "      <td>Neutro</td>\n",
              "      <td>NaN</td>\n",
              "      <td>nan</td>\n",
              "      <td>nan</td>\n",
              "      <td>nan</td>\n",
              "      <td>nan</td>\n",
              "      <td>nan</td>\n",
              "      <td>nan</td>\n",
              "      <td>nan</td>\n",
              "      <td>nan</td>\n",
              "      <td>nan</td>\n",
              "      <td>nan</td>\n",
              "      <td>nan</td>\n",
              "      <td>nan</td>\n",
              "      <td>nan</td>\n",
              "      <td>nan</td>\n",
              "      <td>nan</td>\n",
              "    </tr>\n",
              "    <tr>\n",
              "      <th>3</th>\n",
              "      <td>3</td>\n",
              "      <td>Wed Jan 04 21:43:51 +0000 2017</td>\n",
              "      <td>��� https://t.co/BnDsO34qK0</td>\n",
              "      <td>nan</td>\n",
              "      <td>nan</td>\n",
              "      <td>NaN</td>\n",
              "      <td>Ana estudando</td>\n",
              "      <td>estudandoconcur</td>\n",
              "      <td>0</td>\n",
              "      <td>Neutro</td>\n",
              "      <td>NaN</td>\n",
              "      <td>nan</td>\n",
              "      <td>nan</td>\n",
              "      <td>nan</td>\n",
              "      <td>nan</td>\n",
              "      <td>nan</td>\n",
              "      <td>nan</td>\n",
              "      <td>nan</td>\n",
              "      <td>nan</td>\n",
              "      <td>nan</td>\n",
              "      <td>nan</td>\n",
              "      <td>nan</td>\n",
              "      <td>nan</td>\n",
              "      <td>nan</td>\n",
              "      <td>nan</td>\n",
              "      <td>nan</td>\n",
              "    </tr>\n",
              "    <tr>\n",
              "      <th>4</th>\n",
              "      <td>4</td>\n",
              "      <td>Mon Jan 09 15:08:21 +0000 2017</td>\n",
              "      <td>��� PSOL vai questionar aumento de vereadores ...</td>\n",
              "      <td>nan</td>\n",
              "      <td>nan</td>\n",
              "      <td>NaN</td>\n",
              "      <td>Emily</td>\n",
              "      <td>Milly777</td>\n",
              "      <td>0</td>\n",
              "      <td>Negativo</td>\n",
              "      <td>NaN</td>\n",
              "      <td>nan</td>\n",
              "      <td>nan</td>\n",
              "      <td>nan</td>\n",
              "      <td>nan</td>\n",
              "      <td>nan</td>\n",
              "      <td>nan</td>\n",
              "      <td>nan</td>\n",
              "      <td>nan</td>\n",
              "      <td>nan</td>\n",
              "      <td>nan</td>\n",
              "      <td>nan</td>\n",
              "      <td>nan</td>\n",
              "      <td>nan</td>\n",
              "      <td>nan</td>\n",
              "      <td>nan</td>\n",
              "    </tr>\n",
              "  </tbody>\n",
              "</table>\n",
              "</div>"
            ],
            "text/plain": [
              "   Unnamed: 0                      Created At  ... Unnamed: 23  Unnamed: 24\n",
              "0           0  Sun Jan 08 01:22:05 +0000 2017  ...         nan          nan\n",
              "1           1  Sun Jan 08 01:49:01 +0000 2017  ...         nan          nan\n",
              "2           2  Sun Jan 08 01:01:46 +0000 2017  ...         nan          nan\n",
              "3           3  Wed Jan 04 21:43:51 +0000 2017  ...         nan          nan\n",
              "4           4  Mon Jan 09 15:08:21 +0000 2017  ...         nan          nan\n",
              "\n",
              "[5 rows x 26 columns]"
            ]
          },
          "metadata": {
            "tags": []
          },
          "execution_count": 3
        }
      ]
    },
    {
      "cell_type": "markdown",
      "metadata": {
        "id": "H4DNcM76ainy"
      },
      "source": [
        "**Contar a quantidade de linhas de tweets neutros, positivos e negativos**"
      ]
    },
    {
      "cell_type": "code",
      "metadata": {
        "colab": {
          "base_uri": "https://localhost:8080/"
        },
        "id": "0kjKCcIxnCZm",
        "outputId": "48cd508f-17c1-44c8-c292-ef9ee6db38cc"
      },
      "source": [
        "df.Classificacao.value_counts()"
      ],
      "execution_count": null,
      "outputs": [
        {
          "output_type": "execute_result",
          "data": {
            "text/plain": [
              "Positivo    3300\n",
              "Neutro      2453\n",
              "Negativo    2446\n",
              "Name: Classificacao, dtype: int64"
            ]
          },
          "metadata": {
            "tags": []
          },
          "execution_count": 4
        }
      ]
    },
    {
      "cell_type": "code",
      "metadata": {
        "colab": {
          "base_uri": "https://localhost:8080/",
          "height": 317
        },
        "id": "hKJxbJjPnTW8",
        "outputId": "d3fbac2c-4baf-4b9e-d6ef-156ace84b09a"
      },
      "source": [
        "%matplotlib inline \r\n",
        "df.Classificacao.value_counts().plot(kind='bar')"
      ],
      "execution_count": null,
      "outputs": [
        {
          "output_type": "execute_result",
          "data": {
            "text/plain": [
              "<matplotlib.axes._subplots.AxesSubplot at 0x7f0d8eef6390>"
            ]
          },
          "metadata": {
            "tags": []
          },
          "execution_count": 5
        },
        {
          "output_type": "display_data",
          "data": {
            "image/png": "[encoded data removed]",
            "text/plain": [
              "<Figure size 432x288 with 1 Axes>"
            ]
          },
          "metadata": {
            "tags": [],
            "needs_background": "light"
          }
        }
      ]
    },
    {
      "cell_type": "code",
      "metadata": {
        "colab": {
          "base_uri": "https://localhost:8080/"
        },
        "id": "gGOFXGnBnlFT",
        "outputId": "b4cf4ea7-8455-4f2a-8b0f-cc859682e0c1"
      },
      "source": [
        "df.Text.count()"
      ],
      "execution_count": null,
      "outputs": [
        {
          "output_type": "execute_result",
          "data": {
            "text/plain": [
              "8199"
            ]
          },
          "metadata": {
            "tags": []
          },
          "execution_count": 6
        }
      ]
    },
    {
      "cell_type": "markdown",
      "metadata": {
        "id": "_rOBwBu1aqlj"
      },
      "source": [
        "## Pre-Processamento dos Dados\r\n",
        "\r\n",
        "* Remove linhas duplicadas na base de dados\r\n",
        "* Problema na coleta dos dados.\r\n",
        "* Remove Stopwords\r\n",
        "* Stemming ou Lemmatization\r\n",
        "* Remove caracteres indesejados como links etc."
      ]
    },
    {
      "cell_type": "code",
      "metadata": {
        "colab": {
          "base_uri": "https://localhost:8080/"
        },
        "id": "k3InXmdCo3U3",
        "outputId": "ef8fcd80-f660-446f-e326-47cc5438f826"
      },
      "source": [
        "df.drop_duplicates(['Text'], inplace=True)\r\n",
        "df.Text.count()"
      ],
      "execution_count": null,
      "outputs": [
        {
          "output_type": "execute_result",
          "data": {
            "text/plain": [
              "5765"
            ]
          },
          "metadata": {
            "tags": []
          },
          "execution_count": 47
        }
      ]
    },
    {
      "cell_type": "markdown",
      "metadata": {
        "id": "Izxc6QKKa5OC"
      },
      "source": [
        "## **Separando tweets e suas Classes**"
      ]
    },
    {
      "cell_type": "code",
      "metadata": {
        "id": "NtzeoY7epF-s"
      },
      "source": [
        "tweets = df['Text']\r\n",
        "classes= df['Classificacao']"
      ],
      "execution_count": null,
      "outputs": []
    },
    {
      "cell_type": "markdown",
      "metadata": {
        "id": "sexBFW022GNK"
      },
      "source": [
        "**Instalar bibliotecas e baixar a base de dados**"
      ]
    },
    {
      "cell_type": "code",
      "metadata": {
        "colab": {
          "base_uri": "https://localhost:8080/"
        },
        "id": "Z0fxPaunpu8M",
        "outputId": "8c10c78b-e717-4217-b53d-3d0854352996"
      },
      "source": [
        "#Bibliotecas da NLTK. kit de ferramentas para trabalhar com textos. \r\n",
        "import nltk\r\n",
        "nltk.download( 'stopwords')\r\n",
        "nltk.download( 'rslp')\r\n",
        "nltk.download( 'punkt')\r\n",
        "nltk.download( 'wordnet')"
      ],
      "execution_count": null,
      "outputs": [
        {
          "output_type": "stream",
          "text": [
            "[nltk_data] Downloading package stopwords to /root/nltk_data...\n",
            "[nltk_data]   Unzipping corpora/stopwords.zip.\n",
            "[nltk_data] Downloading package rslp to /root/nltk_data...\n",
            "[nltk_data]   Unzipping stemmers/rslp.zip.\n",
            "[nltk_data] Downloading package punkt to /root/nltk_data...\n",
            "[nltk_data]   Unzipping tokenizers/punkt.zip.\n",
            "[nltk_data] Downloading package wordnet to /root/nltk_data...\n",
            "[nltk_data]   Unzipping corpora/wordnet.zip.\n"
          ],
          "name": "stdout"
        },
        {
          "output_type": "execute_result",
          "data": {
            "text/plain": [
              "True"
            ]
          },
          "metadata": {
            "tags": []
          },
          "execution_count": 9
        }
      ]
    },
    {
      "cell_type": "markdown",
      "metadata": {
        "id": "B81DbhPmbHoL"
      },
      "source": [
        "**Funções de Pre-processamento de dados**"
      ]
    },
    {
      "cell_type": "code",
      "metadata": {
        "id": "Q2FHy0FD2VIM"
      },
      "source": [
        "def RemoveStopWords(instancia):\r\n",
        "    stopwords = set(nltk.corpus.stopwords.words('portuguese'))\r\n",
        "    palavras = [i for i in instancia.split() if not i in stopwords]\r\n",
        "    return  (\" \".join(palavras))"
      ],
      "execution_count": null,
      "outputs": []
    },
    {
      "cell_type": "code",
      "metadata": {
        "id": "iPkNyVtuBQ38"
      },
      "source": [
        "def Stemming(instancia):\r\n",
        "    stemmer = nltk.stem.RSLPStemmer()\r\n",
        "    palavras = []\r\n",
        "    for w in instancia.split():\r\n",
        "        palavras.append(stemmer.stem(w))\r\n",
        "    return (\" \".join(palavras))"
      ],
      "execution_count": null,
      "outputs": []
    },
    {
      "cell_type": "code",
      "metadata": {
        "id": "2V4IyycRBTNn"
      },
      "source": [
        "def limpeza_dados(instancia):\r\n",
        "    instancia = re.sub(r\"http\\S+\", \"\", instancia).lower().replace('.','').replace(';','').replace('-','').replace(':','').replace(')','')\r\n",
        "    return (instancia)"
      ],
      "execution_count": null,
      "outputs": []
    },
    {
      "cell_type": "code",
      "metadata": {
        "id": "UmzLtxTf83Mx"
      },
      "source": [
        "from nltk.stem import WordNetLemmatizer\r\n",
        "wordnet_lemmatizer = WordNetLemmatizer()\r\n",
        "\r\n",
        "def Lemmatization(instancia):\r\n",
        "  palavras = []\r\n",
        "  for w in instancia.split():\r\n",
        "      palavras.append(wordnet_lemmatizer.lemmatize(w))\r\n",
        "  return (\" \".join(palavras))"
      ],
      "execution_count": null,
      "outputs": []
    },
    {
      "cell_type": "markdown",
      "metadata": {
        "id": "SIzDw569bL7U"
      },
      "source": [
        "**Entenda como funciona cada função**"
      ]
    },
    {
      "cell_type": "code",
      "metadata": {
        "colab": {
          "base_uri": "https://localhost:8080/",
          "height": 35
        },
        "id": "q7kiRnDC-rsX",
        "outputId": "002a3377-5056-40dd-ca3d-82fd3109f5d4"
      },
      "source": [
        "RemoveStopWords('Eu não gosto do partido, e também não votaria novamente nesse governante!')"
      ],
      "execution_count": null,
      "outputs": [
        {
          "output_type": "execute_result",
          "data": {
            "application/vnd.google.colaboratory.intrinsic+json": {
              "type": "string"
            },
            "text/plain": [
              "'Eu gosto partido, votaria novamente nesse governante!'"
            ]
          },
          "metadata": {
            "tags": []
          },
          "execution_count": 39
        }
      ]
    },
    {
      "cell_type": "code",
      "metadata": {
        "colab": {
          "base_uri": "https://localhost:8080/",
          "height": 35
        },
        "id": "d6_km4GyCZXM",
        "outputId": "0f7e020c-500a-48b0-a68d-c71ae513f526"
      },
      "source": [
        "Stemming('Eu não gosto do partido, e também não votaria novamente nesse governante!')"
      ],
      "execution_count": null,
      "outputs": [
        {
          "output_type": "execute_result",
          "data": {
            "application/vnd.google.colaboratory.intrinsic+json": {
              "type": "string"
            },
            "text/plain": [
              "'eu não gost do partido, e também não vot nov ness governante!'"
            ]
          },
          "metadata": {
            "tags": []
          },
          "execution_count": 40
        }
      ]
    },
    {
      "cell_type": "code",
      "metadata": {
        "colab": {
          "base_uri": "https://localhost:8080/",
          "height": 35
        },
        "id": "RV-pmpXVElcl",
        "outputId": "4b9fa6bf-0955-41c4-c83e-f103a79a871c"
      },
      "source": [
        "limpeza_dados('Assita aqui o video do Governador falando sobre a CEMIG https://www.uol.com.br :) ;)')"
      ],
      "execution_count": null,
      "outputs": [
        {
          "output_type": "execute_result",
          "data": {
            "application/vnd.google.colaboratory.intrinsic+json": {
              "type": "string"
            },
            "text/plain": [
              "'assita aqui o video do governador falando sobre a cemig   '"
            ]
          },
          "metadata": {
            "tags": []
          },
          "execution_count": 41
        }
      ]
    },
    {
      "cell_type": "code",
      "metadata": {
        "colab": {
          "base_uri": "https://localhost:8080/",
          "height": 35
        },
        "id": "7lIGTTMMFKvX",
        "outputId": "4a6397f9-17ba-498c-bf87-0e2dad81ec32"
      },
      "source": [
        "Lemmatization('Os carros são bonitos')"
      ],
      "execution_count": null,
      "outputs": [
        {
          "output_type": "execute_result",
          "data": {
            "application/vnd.google.colaboratory.intrinsic+json": {
              "type": "string"
            },
            "text/plain": [
              "'Os carros são bonito'"
            ]
          },
          "metadata": {
            "tags": []
          },
          "execution_count": 42
        }
      ]
    },
    {
      "cell_type": "markdown",
      "metadata": {
        "id": "wVJrYdjKbQi3"
      },
      "source": [
        "**Aplica as 3 funções de Pre-processamento nos dados**"
      ]
    },
    {
      "cell_type": "code",
      "metadata": {
        "id": "6-OVVxnEF3Mc"
      },
      "source": [
        "def Preprocessing(instancia):\r\n",
        "    stemmer = nltk.stem.RSLPStemmer()\r\n",
        "    instancia = re.sub(r\"http\\S+\", \"\", instancia).lower().replace('.','').replace(';','').replace('-','').replace(':','').replace(')','')\r\n",
        "    stopwords = set(nltk.corpus.stopwords.words('portuguese'))\r\n",
        "    palavras = [stemmer.stem(i) for i in instancia.split() if not i in stopwords]\r\n",
        "    return (\" \".join(palavras))\r\n",
        "\r\n",
        "# Aplica a função em todos os dados:\r\n",
        "tweets = [Preprocessing(i) for i in tweets]"
      ],
      "execution_count": null,
      "outputs": []
    },
    {
      "cell_type": "markdown",
      "metadata": {
        "id": "nEQpWQNHbiQZ"
      },
      "source": [
        "**Visualize os dados e veja como ficou após o pré-processamento**"
      ]
    },
    {
      "cell_type": "code",
      "metadata": {
        "colab": {
          "base_uri": "https://localhost:8080/"
        },
        "id": "JiOX5YUuITg8",
        "outputId": "d8b9e08e-e466-4ac6-d2f8-19a062e58d82"
      },
      "source": [
        "tweets[:50]"
      ],
      "execution_count": null,
      "outputs": [
        {
          "output_type": "execute_result",
          "data": {
            "text/plain": [
              "0     ���⛪ @ Catedral de Santo Antônio - Governador ...\n",
              "1     � @ Governador Valadares, Minas Gerais https:/...\n",
              "2     �� @ Governador Valadares, Minas Gerais https:...\n",
              "3                           ��� https://t.co/BnDsO34qK0\n",
              "4     ��� PSOL vai questionar aumento de vereadores ...\n",
              "5     \" bom é bandido morto\"\\nDeputado Cabo Júlio é ...\n",
              "6     \"..E 25% dos mineiros dizem não torcer para ti...\n",
              "7     \"A gigantesca barba do mal\" em destaque no cad...\n",
              "8     \"BB e governo de Minas travam disputa sobre de...\n",
              "9     \"com vcs bh fica pequena!\" Belo Horizonte (pro...\n",
              "10    \"Daí a gente visita governador valadares\"\\n\"Qu...\n",
              "11    \"É bonita e é bonita...\" \\n#latergram #ibituru...\n",
              "12    \"erro desconhecido\" é mato! Aliás, é da secret...\n",
              "13    \"La La Land: Cantando Estações\" arrasa no Glob...\n",
              "14    \"La La Land: Cantando Estações\" arrasa no Glob...\n",
              "15    \"Los abusos, aun en el estado más sólido, son ...\n",
              "16    \"Mesmo sem muito dinheiro no caixa o governo d...\n",
              "17    \"Modelo de segurança será o nosso legado\", diz...\n",
              "18    \"Modelo de segurança será o nosso legado\", diz...\n",
              "19    \"Modelo de segurança será o nosso legado\", diz...\n",
              "20    \"O governo de Minas Gerais não comentou o assu...\n",
              "21    \"O governo federal publicou no dia 27 de dezem...\n",
              "22    \"Polícia Federal acaba de divulgar que encontr...\n",
              "23    \"Praia da Estação\" lota neste sábado de verão ...\n",
              "24    \"Representando mais uma ferramenta de monitora...\n",
              "25    \"uso de aeronave pertencente ao  Estado de MG,...\n",
              "26    \"vou postar umas curiosidades sobre o corpo hu...\n",
              "27    #ACORDAMINAS!!!\\n\\nO governador Fernando Pimen...\n",
              "28    #ACORDAMINAS!!!!\\n\\nO povo mineiro tem que da ...\n",
              "29    #Alerta - Nome da CEEE é utilizado em golpe no...\n",
              "30    #beta #betalab #mg Afiliada da Globo: Apresent...\n",
              "31    #beta #betalab #mg Caos nos presídios: AM pede...\n",
              "32    #beta #betalab #mg Caos nos presídios: Temer e...\n",
              "33    #beta #betalab #mg Crise carcerária: Governo d...\n",
              "34    #beta #betalab #mg Crise carcerária: Secretári...\n",
              "35    #beta #betalab #mg Crise política no DF se agr...\n",
              "36    #beta #betalab #mg Escalada de violência nos p...\n",
              "37    #beta #betalab #mg Escalada de violência: Crim...\n",
              "38    #beta #betalab #mg Estado afirma não ter sido ...\n",
              "39    #beta #betalab #mg Estado de espírito do pauli...\n",
              "40    #beta #betalab #mg Estados falidos: Parte do P...\n",
              "41    #beta #betalab #mg Ex-ministro e outros: Servi...\n",
              "42    #beta #betalab #mg Ex-presidente da Câmara: Ju...\n",
              "43    #beta #betalab #mg Governo em calamidade finan...\n",
              "44    #beta #betalab #mg Mais sobre o massacre: PF: ...\n",
              "45    #beta #betalab #mg Marketing e veto a medidas ...\n",
              "46    #beta #betalab #mg Massacre em presídio de Man...\n",
              "47    #beta #betalab #mg Mudanças propostas pelo gov...\n",
              "48    #beta #betalab #mg Muitas páginas de investiga...\n",
              "49    #beta #betalab #mg Nos últimos dois anos: Gove...\n",
              "Name: Text, dtype: object"
            ]
          },
          "metadata": {
            "tags": []
          },
          "execution_count": 20
        }
      ]
    },
    {
      "cell_type": "markdown",
      "metadata": {
        "id": "pms07KULbmeh"
      },
      "source": [
        "**Tokenização**\r\n",
        "- Atente para o tipo de dados que você está trabalhando."
      ]
    },
    {
      "cell_type": "code",
      "metadata": {
        "colab": {
          "base_uri": "https://localhost:8080/"
        },
        "id": "6aBdMs1zIjWY",
        "outputId": "9dd0f735-2054-402c-d539-dca178ec8ffb"
      },
      "source": [
        "from nltk.tokenize import word_tokenize\r\n",
        "from nltk.tokenize import TweetTokenizer\r\n",
        "Frase = frase = 'A live do @blogminerando é show! :) :-) ;) =D'\r\n",
        "tweet_tokenizer = TweetTokenizer()\r\n",
        "tweet_tokenizer.tokenize(Frase)"
      ],
      "execution_count": null,
      "outputs": [
        {
          "output_type": "execute_result",
          "data": {
            "text/plain": [
              "['A',\n",
              " 'live',\n",
              " 'do',\n",
              " '@blogminerando',\n",
              " 'é',\n",
              " 'show',\n",
              " '!',\n",
              " ':)',\n",
              " ':-)',\n",
              " ';)',\n",
              " '=D']"
            ]
          },
          "metadata": {
            "tags": []
          },
          "execution_count": 21
        }
      ]
    },
    {
      "cell_type": "markdown",
      "metadata": {
        "id": "dH0Koh6pPczC"
      },
      "source": [
        "CRIANDO O MODELO. "
      ]
    },
    {
      "cell_type": "markdown",
      "metadata": {
        "id": "9tV279odb8LJ"
      },
      "source": [
        "**Instancia o objeto que faz a vetorização dos dados de texto**"
      ]
    },
    {
      "cell_type": "code",
      "metadata": {
        "id": "vzxvF-pgM7kw"
      },
      "source": [
        "vectorizer = CountVectorizer(analyzer=\"word\", tokenizer=tweet_tokenizer.tokenize)"
      ],
      "execution_count": null,
      "outputs": []
    },
    {
      "cell_type": "markdown",
      "metadata": {
        "id": "Qxk9R8M4cEAs"
      },
      "source": [
        "**Aplica o vetorizador nos dados de texto**"
      ]
    },
    {
      "cell_type": "code",
      "metadata": {
        "colab": {
          "base_uri": "https://localhost:8080/"
        },
        "id": "3-9gmixOQZbP",
        "outputId": "4f6ed40e-125c-4bc0-ccea-509a4e127163"
      },
      "source": [
        "freq_tweets = vectorizer.fit_transform(tweets)\r\n",
        "type(freq_tweets)"
      ],
      "execution_count": null,
      "outputs": [
        {
          "output_type": "execute_result",
          "data": {
            "text/plain": [
              "scipy.sparse.csr.csr_matrix"
            ]
          },
          "metadata": {
            "tags": []
          },
          "execution_count": 29
        }
      ]
    },
    {
      "cell_type": "markdown",
      "metadata": {
        "id": "i2d8lE_PcI8H"
      },
      "source": [
        "**Formato (Linhas, Colunas) da matriz**"
      ]
    },
    {
      "cell_type": "code",
      "metadata": {
        "colab": {
          "base_uri": "https://localhost:8080/"
        },
        "id": "R031c5MgQnbA",
        "outputId": "505e8266-ed3c-4883-b5a5-f1a2676ebd09"
      },
      "source": [
        "freq_tweets.shape"
      ],
      "execution_count": null,
      "outputs": [
        {
          "output_type": "execute_result",
          "data": {
            "text/plain": [
              "(5765, 13361)"
            ]
          },
          "metadata": {
            "tags": []
          },
          "execution_count": 30
        }
      ]
    },
    {
      "cell_type": "markdown",
      "metadata": {
        "id": "tsGsQLWCQ7IL"
      },
      "source": [
        "Treino do modelo de Machine Learning"
      ]
    },
    {
      "cell_type": "code",
      "metadata": {
        "colab": {
          "base_uri": "https://localhost:8080/"
        },
        "id": "TV3Igkw0Q_JR",
        "outputId": "9797826d-4b7e-428f-a30c-d8326e08665a"
      },
      "source": [
        "modelo = MultinomialNB()\r\n",
        "modelo.fit(freq_tweets, Classes)"
      ],
      "execution_count": null,
      "outputs": [
        {
          "output_type": "execute_result",
          "data": {
            "text/plain": [
              "MultinomialNB(alpha=1.0, class_prior=None, fit_prior=True)"
            ]
          },
          "metadata": {
            "tags": []
          },
          "execution_count": 31
        }
      ]
    },
    {
      "cell_type": "markdown",
      "metadata": {
        "id": "SBxfVODLShD8"
      },
      "source": [
        "Testando o modelo com algumas instâncias simples"
      ]
    },
    {
      "cell_type": "code",
      "metadata": {
        "id": "GdujnqpvRNrw"
      },
      "source": [
        "testes = ['Eu gosto de comidas apimentadas  ',\r\n",
        "          'Estou muito feliz.',\r\n",
        "          'O estado de Minas Gerais decretou calamidade financeira!!!',\r\n",
        "          'Estou com medo de entrar neste lugar',\r\n",
        "           'O dia de hoje vai ser ótimo']"
      ],
      "execution_count": null,
      "outputs": []
    },
    {
      "cell_type": "code",
      "metadata": {
        "id": "mnVeql4dUy3H"
      },
      "source": [
        "# Transforma os dados de teste em vetores de palavras.\r\n",
        "freq_testes = vectorizer.transform(testes)"
      ],
      "execution_count": null,
      "outputs": []
    },
    {
      "cell_type": "code",
      "metadata": {
        "colab": {
          "base_uri": "https://localhost:8080/"
        },
        "id": "BsbUAivkVJPY",
        "outputId": "93caf78c-f52c-4c30-c1e5-b59a956f165f"
      },
      "source": [
        "for t, c in zip(testes,modelo.predict(freq_testes)):\r\n",
        "    print (t+\" ,\"+c )"
      ],
      "execution_count": null,
      "outputs": [
        {
          "output_type": "stream",
          "text": [
            "Eu gosto de comidas apimentadas   ,Neutro\n",
            "Estou muito feliz. ,Neutro\n",
            "O estado de Minas Gerais decretou calamidade financeira!!! ,Negativo\n",
            "Estou com medo de entrar neste lugar ,Neutro\n",
            "O dia de hoje vai ser ótimo ,Neutro\n"
          ],
          "name": "stdout"
        }
      ]
    },
    {
      "cell_type": "code",
      "metadata": {
        "colab": {
          "base_uri": "https://localhost:8080/"
        },
        "id": "q5UvmooEYxKy",
        "outputId": "edd41046-1c8a-4048-b4be-1261254d8416"
      },
      "source": [
        "print(modelo.classes_)\r\n",
        "modelo.predict_proba(freq_testes).round(2)\r\n"
      ],
      "execution_count": null,
      "outputs": [
        {
          "output_type": "stream",
          "text": [
            "['Negativo' 'Neutro' 'Positivo']\n"
          ],
          "name": "stdout"
        },
        {
          "output_type": "execute_result",
          "data": {
            "text/plain": [
              "array([[0.12, 0.82, 0.05],\n",
              "       [0.02, 0.97, 0.01],\n",
              "       [0.99, 0.01, 0.  ],\n",
              "       [0.01, 0.96, 0.03],\n",
              "       [0.  , 0.99, 0.  ]])"
            ]
          },
          "metadata": {
            "tags": []
          },
          "execution_count": 49
        }
      ]
    },
    {
      "cell_type": "markdown",
      "metadata": {
        "id": "0SdePfRXcV-r"
      },
      "source": [
        "## **Tags de Negações**"
      ]
    },
    {
      "cell_type": "markdown",
      "metadata": {
        "id": "A9jKgEuEcY1r"
      },
      "source": [
        "* Acrescenta uma tag _NEG encontrada após um 'não'.\r\n",
        "* Objetivo é dar mais peso para o modelo identificar uma inversão de sentimento da frase.\r\n",
        "* Exemplos: \r\n",
        "    - Eu gosto de cachorros, positivo.\r\n",
        "    - Eu **não** gosto de cachorros, negativo."
      ]
    },
    {
      "cell_type": "code",
      "metadata": {
        "id": "Vnfrj7uCS8jt"
      },
      "source": [
        "def marque_negacao(texto):\r\n",
        "    negacoes = ['não','not']\r\n",
        "    negacao_detectada = False\r\n",
        "    resultado = []\r\n",
        "    palavras = texto.split()\r\n",
        "    for p in palavras:\r\n",
        "        p = p.lower()\r\n",
        "        if negacao_detectada == True:\r\n",
        "            p = p + '_NEG'\r\n",
        "        if p in negacoes:\r\n",
        "            negacao_detectada = True\r\n",
        "        resultado.append(p)\r\n",
        "    return (\" \".join(resultado))"
      ],
      "execution_count": null,
      "outputs": []
    },
    {
      "cell_type": "markdown",
      "metadata": {
        "id": "lhSmfc_qPPDl"
      },
      "source": [
        "## **Criando modelos com Pipelines**"
      ]
    },
    {
      "cell_type": "code",
      "metadata": {
        "id": "RXyIBkwfaGT_"
      },
      "source": [
        "from sklearn.pipeline import Pipeline"
      ],
      "execution_count": null,
      "outputs": []
    },
    {
      "cell_type": "code",
      "metadata": {
        "id": "IEGkrNcNQLd1"
      },
      "source": [
        "pipeline_simples = Pipeline([\r\n",
        "  ('counts', CountVectorizer()),\r\n",
        "  ('classifier', MultinomialNB())\r\n",
        "])"
      ],
      "execution_count": null,
      "outputs": []
    },
    {
      "cell_type": "code",
      "metadata": {
        "id": "BZh6kIXKd_CU"
      },
      "source": [
        "pipeline_negacoes = Pipeline([\r\n",
        "  ('counts', CountVectorizer(tokenizer=lambda text: marque_negacao(text))),\r\n",
        "  ('classifier', MultinomialNB())\r\n",
        "])"
      ],
      "execution_count": null,
      "outputs": []
    },
    {
      "cell_type": "code",
      "metadata": {
        "colab": {
          "base_uri": "https://localhost:8080/"
        },
        "id": "eLHRmTpjdXIs",
        "outputId": "0c2f0804-57cb-4101-c00f-d912c63d69ce"
      },
      "source": [
        "pipeline_simples.fit(tweets,classes)\r\n"
      ],
      "execution_count": null,
      "outputs": [
        {
          "output_type": "execute_result",
          "data": {
            "text/plain": [
              "Pipeline(memory=None,\n",
              "         steps=[('counts',\n",
              "                 CountVectorizer(analyzer='word', binary=False,\n",
              "                                 decode_error='strict',\n",
              "                                 dtype=<class 'numpy.int64'>, encoding='utf-8',\n",
              "                                 input='content', lowercase=True, max_df=1.0,\n",
              "                                 max_features=None, min_df=1,\n",
              "                                 ngram_range=(1, 1), preprocessor=None,\n",
              "                                 stop_words=None, strip_accents=None,\n",
              "                                 token_pattern='(?u)\\\\b\\\\w\\\\w+\\\\b',\n",
              "                                 tokenizer=None, vocabulary=None)),\n",
              "                ('classifier',\n",
              "                 MultinomialNB(alpha=1.0, class_prior=None, fit_prior=True))],\n",
              "         verbose=False)"
            ]
          },
          "metadata": {
            "tags": []
          },
          "execution_count": 93
        }
      ]
    },
    {
      "cell_type": "code",
      "metadata": {
        "colab": {
          "base_uri": "https://localhost:8080/"
        },
        "id": "FrMI6q7DdnUl",
        "outputId": "f45f672a-666d-4b76-8ea8-5a3fbc67e312"
      },
      "source": [
        "pipeline_simples.steps"
      ],
      "execution_count": null,
      "outputs": [
        {
          "output_type": "execute_result",
          "data": {
            "text/plain": [
              "[('counts',\n",
              "  CountVectorizer(analyzer='word', binary=False, decode_error='strict',\n",
              "                  dtype=<class 'numpy.int64'>, encoding='utf-8', input='content',\n",
              "                  lowercase=True, max_df=1.0, max_features=None, min_df=1,\n",
              "                  ngram_range=(1, 1), preprocessor=None, stop_words=None,\n",
              "                  strip_accents=None, token_pattern='(?u)\\\\b\\\\w\\\\w+\\\\b',\n",
              "                  tokenizer=None, vocabulary=None)),\n",
              " ('classifier', MultinomialNB(alpha=1.0, class_prior=None, fit_prior=True))]"
            ]
          },
          "metadata": {
            "tags": []
          },
          "execution_count": 94
        }
      ]
    },
    {
      "cell_type": "markdown",
      "metadata": {
        "id": "xJE8LPF8dr9p"
      },
      "source": [
        "* Gera o modelo de negações"
      ]
    },
    {
      "cell_type": "code",
      "metadata": {
        "colab": {
          "base_uri": "https://localhost:8080/"
        },
        "id": "iMDGavI2dpbc",
        "outputId": "f1e0c3a2-8e2c-4dec-b15e-692874bddc64"
      },
      "source": [
        "pipeline_negacoes.fit(tweets,classes)"
      ],
      "execution_count": null,
      "outputs": [
        {
          "output_type": "execute_result",
          "data": {
            "text/plain": [
              "Pipeline(memory=None,\n",
              "         steps=[('counts',\n",
              "                 CountVectorizer(analyzer='word', binary=False,\n",
              "                                 decode_error='strict',\n",
              "                                 dtype=<class 'numpy.int64'>, encoding='utf-8',\n",
              "                                 input='content', lowercase=True, max_df=1.0,\n",
              "                                 max_features=None, min_df=1,\n",
              "                                 ngram_range=(1, 1), preprocessor=None,\n",
              "                                 stop_words=None, strip_accents=None,\n",
              "                                 token_pattern='(?u)\\\\b\\\\w\\\\w+\\\\b',\n",
              "                                 tokenizer=<function <lambda> at 0x7f0d8226bd08>,\n",
              "                                 vocabulary=None)),\n",
              "                ('classifier',\n",
              "                 MultinomialNB(alpha=1.0, class_prior=None, fit_prior=True))],\n",
              "         verbose=False)"
            ]
          },
          "metadata": {
            "tags": []
          },
          "execution_count": 97
        }
      ]
    },
    {
      "cell_type": "markdown",
      "metadata": {
        "id": "Gox513pweG_w"
      },
      "source": [
        "* Etapas do pipeline"
      ]
    },
    {
      "cell_type": "code",
      "metadata": {
        "colab": {
          "base_uri": "https://localhost:8080/"
        },
        "id": "P4ZgUI3OeBMs",
        "outputId": "c5c0a1fe-fc3c-46e3-e391-368604588ad3"
      },
      "source": [
        "pipeline_negacoes.steps"
      ],
      "execution_count": null,
      "outputs": [
        {
          "output_type": "execute_result",
          "data": {
            "text/plain": [
              "[('counts',\n",
              "  CountVectorizer(analyzer='word', binary=False, decode_error='strict',\n",
              "                  dtype=<class 'numpy.int64'>, encoding='utf-8', input='content',\n",
              "                  lowercase=True, max_df=1.0, max_features=None, min_df=1,\n",
              "                  ngram_range=(1, 1), preprocessor=None, stop_words=None,\n",
              "                  strip_accents=None, token_pattern='(?u)\\\\b\\\\w\\\\w+\\\\b',\n",
              "                  tokenizer=<function <lambda> at 0x7f0d8226bd08>,\n",
              "                  vocabulary=None)),\n",
              " ('classifier', MultinomialNB(alpha=1.0, class_prior=None, fit_prior=True))]"
            ]
          },
          "metadata": {
            "tags": []
          },
          "execution_count": 98
        }
      ]
    },
    {
      "cell_type": "markdown",
      "metadata": {
        "id": "Q5I-bOMFeUxR"
      },
      "source": [
        "Modelo com SVM\r\n"
      ]
    },
    {
      "cell_type": "code",
      "metadata": {
        "id": "XdGEgO0VeWC1"
      },
      "source": [
        "pipeline_svm_simples = Pipeline([\r\n",
        "  ('counts', CountVectorizer()),\r\n",
        "  ('classifier', svm.SVC(kernel='linear'))\r\n",
        "])"
      ],
      "execution_count": null,
      "outputs": []
    },
    {
      "cell_type": "code",
      "metadata": {
        "id": "heuPngh1eYfN"
      },
      "source": [
        "pipeline_svm_negacoes = Pipeline([\r\n",
        "  ('counts', CountVectorizer(tokenizer=lambda text: marque_negacao(text))),\r\n",
        "  ('classifier', svm.SVC(kernel='linear'))\r\n",
        "])"
      ],
      "execution_count": null,
      "outputs": []
    },
    {
      "cell_type": "markdown",
      "metadata": {
        "id": "994RmiTCfGhx"
      },
      "source": [
        "## Validando os Modelos com Validação Cruzada"
      ]
    },
    {
      "cell_type": "markdown",
      "metadata": {
        "id": "E861DckMfUv0"
      },
      "source": [
        "* Fazendo o cross validation do modelo"
      ]
    },
    {
      "cell_type": "code",
      "metadata": {
        "id": "Jw6BV7n_fHQN"
      },
      "source": [
        "resultados = cross_val_predict(pipeline_simples, tweets, classes, cv=10)"
      ],
      "execution_count": null,
      "outputs": []
    },
    {
      "cell_type": "markdown",
      "metadata": {
        "id": "j65i4gYYfVw7"
      },
      "source": [
        "* Medindo a acurácia média do modelo"
      ]
    },
    {
      "cell_type": "code",
      "metadata": {
        "colab": {
          "base_uri": "https://localhost:8080/"
        },
        "id": "AKnayloLfLAc",
        "outputId": "6a9acd13-edec-44cb-e2c3-9c61c8613ba2"
      },
      "source": [
        "metrics.accuracy_score(classes,resultados)"
      ],
      "execution_count": null,
      "outputs": [
        {
          "output_type": "execute_result",
          "data": {
            "text/plain": [
              "0.8716392020815265"
            ]
          },
          "metadata": {
            "tags": []
          },
          "execution_count": 102
        }
      ]
    },
    {
      "cell_type": "markdown",
      "metadata": {
        "id": "eAkEmi-0fZi6"
      },
      "source": [
        "* Medidas de validação do modelo"
      ]
    },
    {
      "cell_type": "code",
      "metadata": {
        "colab": {
          "base_uri": "https://localhost:8080/"
        },
        "id": "3KBrjJ5rfOnN",
        "outputId": "bcbc4285-139c-47f7-c7ac-94d7ae6438dc"
      },
      "source": [
        "sentimento=['Positivo','Negativo','Neutro']\r\n",
        "print (metrics.classification_report(classes,resultados,sentimento))"
      ],
      "execution_count": null,
      "outputs": [
        {
          "output_type": "stream",
          "text": [
            "              precision    recall  f1-score   support\n",
            "\n",
            "    Positivo       0.95      0.89      0.92      2840\n",
            "    Negativo       0.80      0.87      0.83       951\n",
            "      Neutro       0.81      0.84      0.83      1974\n",
            "\n",
            "    accuracy                           0.87      5765\n",
            "   macro avg       0.85      0.87      0.86      5765\n",
            "weighted avg       0.88      0.87      0.87      5765\n",
            "\n"
          ],
          "name": "stdout"
        }
      ]
    },
    {
      "cell_type": "markdown",
      "metadata": {
        "id": "VvKmGpsffdTC"
      },
      "source": [
        "* Matriz de confusão"
      ]
    },
    {
      "cell_type": "code",
      "metadata": {
        "colab": {
          "base_uri": "https://localhost:8080/"
        },
        "id": "4E7o4hcYfPsU",
        "outputId": "5a435138-2359-4267-bfa9-e397509d858a"
      },
      "source": [
        "print (pd.crosstab(classes, resultados, rownames=['Real'], colnames=['Predito'], margins=True))"
      ],
      "execution_count": null,
      "outputs": [
        {
          "output_type": "stream",
          "text": [
            "Predito   Negativo  Neutro  Positivo   All\n",
            "Real                                      \n",
            "Negativo       832     111         8   951\n",
            "Neutro         175    1662       137  1974\n",
            "Positivo        37     272      2531  2840\n",
            "All           1044    2045      2676  5765\n"
          ],
          "name": "stdout"
        }
      ]
    },
    {
      "cell_type": "code",
      "metadata": {
        "id": "Qwh7JQ7Kflid"
      },
      "source": [
        "def Metricas(modelo, tweets, classes):\r\n",
        "  resultados = cross_val_predict(modelo, tweets, classes, cv=10)\r\n",
        "  return 'Acurácia do modelo: {}'.format(metrics.accuracy_score(classes,resultados))"
      ],
      "execution_count": null,
      "outputs": []
    },
    {
      "cell_type": "code",
      "metadata": {
        "colab": {
          "base_uri": "https://localhost:8080/",
          "height": 35
        },
        "id": "pNj-chjCfmSF",
        "outputId": "e260fa2f-59d2-407e-edd5-408c0546a3a3"
      },
      "source": [
        "# naive bayes simples\r\n",
        "Metricas(pipeline_simples,tweets,classes)"
      ],
      "execution_count": null,
      "outputs": [
        {
          "output_type": "execute_result",
          "data": {
            "application/vnd.google.colaboratory.intrinsic+json": {
              "type": "string"
            },
            "text/plain": [
              "'Acurácia do modelo: 0.8716392020815265'"
            ]
          },
          "metadata": {
            "tags": []
          },
          "execution_count": 111
        }
      ]
    },
    {
      "cell_type": "code",
      "metadata": {
        "colab": {
          "base_uri": "https://localhost:8080/",
          "height": 35
        },
        "id": "_NnGc6f2fodc",
        "outputId": "d05036cc-6160-4d14-c5a8-c053732f9e09"
      },
      "source": [
        "# naive bayes com tag de negacoes\r\n",
        "Metricas(pipeline_negacoes,tweets,classes)"
      ],
      "execution_count": null,
      "outputs": [
        {
          "output_type": "execute_result",
          "data": {
            "application/vnd.google.colaboratory.intrinsic+json": {
              "type": "string"
            },
            "text/plain": [
              "'Acurácia do modelo: 0.6830875975715525'"
            ]
          },
          "metadata": {
            "tags": []
          },
          "execution_count": 110
        }
      ]
    },
    {
      "cell_type": "code",
      "metadata": {
        "colab": {
          "base_uri": "https://localhost:8080/",
          "height": 35
        },
        "id": "kvGIdkosfudt",
        "outputId": "a562a8b5-ea22-49fc-8107-f308a29ad028"
      },
      "source": [
        "# svm linear simples\r\n",
        "Metricas(pipeline_svm_simples,tweets,classes)"
      ],
      "execution_count": null,
      "outputs": [
        {
          "output_type": "execute_result",
          "data": {
            "application/vnd.google.colaboratory.intrinsic+json": {
              "type": "string"
            },
            "text/plain": [
              "'Acurácia do modelo: 0.8947094535993062'"
            ]
          },
          "metadata": {
            "tags": []
          },
          "execution_count": 109
        }
      ]
    },
    {
      "cell_type": "code",
      "metadata": {
        "colab": {
          "base_uri": "https://localhost:8080/",
          "height": 35
        },
        "id": "GaLzqHCdfv6t",
        "outputId": "2dba9fc0-9213-41f8-da82-bc4992107f07"
      },
      "source": [
        "# svm linear com tag de negacoes\r\n",
        "Metricas(pipeline_svm_negacoes,tweets,classes)"
      ],
      "execution_count": null,
      "outputs": [
        {
          "output_type": "execute_result",
          "data": {
            "application/vnd.google.colaboratory.intrinsic+json": {
              "type": "string"
            },
            "text/plain": [
              "'Acurácia do modelo: 0.769297484822203'"
            ]
          },
          "metadata": {
            "tags": []
          },
          "execution_count": 108
        }
      ]
    },
    {
      "cell_type": "markdown",
      "metadata": {
        "id": "dFajmb_if3c9"
      },
      "source": [
        "## **Modelo com a Tag de Negações**"
      ]
    },
    {
      "cell_type": "code",
      "metadata": {
        "id": "ZPvio8IQf4PN"
      },
      "source": [
        "resultados = cross_val_predict(pipeline_negacoes, tweets, classes, cv=10)"
      ],
      "execution_count": null,
      "outputs": []
    },
    {
      "cell_type": "code",
      "metadata": {
        "colab": {
          "base_uri": "https://localhost:8080/"
        },
        "id": "nLYebJIFf6LM",
        "outputId": "f67c1afc-11a8-4460-88bd-0b3551a1aed0"
      },
      "source": [
        "metrics.accuracy_score(classes,resultados)"
      ],
      "execution_count": null,
      "outputs": [
        {
          "output_type": "execute_result",
          "data": {
            "text/plain": [
              "0.6830875975715525"
            ]
          },
          "metadata": {
            "tags": []
          },
          "execution_count": 115
        }
      ]
    },
    {
      "cell_type": "code",
      "metadata": {
        "colab": {
          "base_uri": "https://localhost:8080/"
        },
        "id": "5CmQUYtpf7mt",
        "outputId": "b2415927-91c4-4168-b2aa-07d228dcf2b2"
      },
      "source": [
        "entimento=['Positivo','Negativo','Neutro']\r\n",
        "print (metrics.classification_report(classes,resultados,sentimento))"
      ],
      "execution_count": null,
      "outputs": [
        {
          "output_type": "stream",
          "text": [
            "              precision    recall  f1-score   support\n",
            "\n",
            "    Positivo       0.69      0.89      0.78      2840\n",
            "    Negativo       0.60      0.26      0.36       951\n",
            "      Neutro       0.69      0.58      0.63      1974\n",
            "\n",
            "    accuracy                           0.68      5765\n",
            "   macro avg       0.66      0.58      0.59      5765\n",
            "weighted avg       0.67      0.68      0.66      5765\n",
            "\n"
          ],
          "name": "stdout"
        }
      ]
    },
    {
      "cell_type": "markdown",
      "metadata": {
        "id": "PGvcFJUdf_I8"
      },
      "source": [
        "* Matriz de confusão"
      ]
    },
    {
      "cell_type": "code",
      "metadata": {
        "colab": {
          "base_uri": "https://localhost:8080/"
        },
        "id": "J4dPYYDZf9MF",
        "outputId": "4d50ec44-1525-4ea5-affd-99edd0a2d60b"
      },
      "source": [
        "print (pd.crosstab(classes, resultados, rownames=['Real'], colnames=['Predito'], margins=True))"
      ],
      "execution_count": null,
      "outputs": [
        {
          "output_type": "stream",
          "text": [
            "Predito   Negativo  Neutro  Positivo   All\n",
            "Real                                      \n",
            "Negativo       832     111         8   951\n",
            "Neutro         175    1662       137  1974\n",
            "Positivo        37     272      2531  2840\n",
            "All           1044    2045      2676  5765\n"
          ],
          "name": "stdout"
        }
      ]
    },
    {
      "cell_type": "markdown",
      "metadata": {
        "id": "bVB3lwongI3k"
      },
      "source": [
        "## **Considerações Finais**\r\n",
        "\r\n",
        "Considere aumentar a quantidade de dados de treino.\r\n",
        "\r\n",
        "Pela sua simplicidade o Naive Bayes pode ser usado perfeitamente como um algoritmo de Baseline.\r\n"
      ]
    }
  ]
}